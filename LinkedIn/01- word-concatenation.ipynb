{
 "cells": [
  {
   "cell_type": "markdown",
   "metadata": {},
   "source": [
    "Hi, here's your problem today. This problem was recently asked by LinkedIn:\n",
    "\n",
    "Given a set of words, find all words that are concatenations of other words in the set."
   ]
  },
  {
   "cell_type": "code",
   "execution_count": 4,
   "metadata": {
    "scrolled": true
   },
   "outputs": [
    {
     "name": "stdout",
     "output_type": "stream",
     "text": [
      "['catsdog', 'dogcat', 'dogcatrat', 'Rajab']\n"
     ]
    }
   ],
   "source": [
    "class Solution():\n",
    "    def findAllConcatenatedWords(self, words):\n",
    "        \"\"\"\n",
    "        :type words: List[str]\n",
    "        :rtype: List[str]\n",
    "        \"\"\"\n",
    "        d = set(words)\n",
    "        \n",
    "        def dfs(word):\n",
    "            for i in range(1, len(word)):\n",
    "                prefix = word[:i] \n",
    "                suffix = word[i:] \n",
    "                \n",
    "                if prefix in d and suffix in d:\n",
    "                    return True\n",
    "                if prefix in d and dfs(suffix):\n",
    "                    return True\n",
    "                if suffix in d and dfs(prefix):\n",
    "                    return True\n",
    "            \n",
    "            return False\n",
    "        \n",
    "        res = []\n",
    "        for word in words:\n",
    "            if dfs(word):\n",
    "                res.append(word)\n",
    "        \n",
    "        return res\n",
    "\n",
    "\n",
    "# to test your code\n",
    "input = ['rat', 'cat', 'cats', 'dog', 'catsdog', 'dogcat', 'dogcatrat']\n",
    "print(Solution().findAllConcatenatedWords(input))\n",
    "# ['catsdog', 'dogcat', 'dogcatrat']"
   ]
  },
  {
   "cell_type": "markdown",
   "metadata": {},
   "source": []
  }
 ],
 "metadata": {
  "kernelspec": {
   "display_name": "Python 3",
   "language": "python",
   "name": "python3"
  },
  "language_info": {
   "codemirror_mode": {
    "name": "ipython",
    "version": 3
   },
   "file_extension": ".py",
   "mimetype": "text/x-python",
   "name": "python",
   "nbconvert_exporter": "python",
   "pygments_lexer": "ipython3",
   "version": "3.6.12"
  }
 },
 "nbformat": 4,
 "nbformat_minor": 4
}
