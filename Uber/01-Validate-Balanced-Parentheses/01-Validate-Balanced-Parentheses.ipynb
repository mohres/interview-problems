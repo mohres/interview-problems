{
 "cells": [
  {
   "cell_type": "markdown",
   "metadata": {},
   "source": [
    "This problem was recently asked by Uber:\n",
    "\n",
    "Imagine you are building a compiler. Before running any code, the compiler must check that the parentheses in the program are balanced. Every opening bracket must have a corresponding closing bracket. We can approximate this using strings.\n",
    "\n",
    "Given a string containing just the characters '(', ')', '{', '}', '[' and ']', determine if the input string is valid.\n",
    "An input string is valid if:\n",
    "\n",
    "- Open brackets are closed by the same type of brackets.\n",
    "- Open brackets are closed in the correct order.\n",
    "- Note that an empty string is also considered valid.\n",
    "\n",
    "```\n",
    "Example:\n",
    "Input: \"((()))\"\n",
    "Output: True\n",
    "\n",
    "Input: \"[()]{}\"\n",
    "Output: True\n",
    "\n",
    "Input: \"({[)]\"\n",
    "Output: False\n",
    "```"
   ]
  },
  {
   "cell_type": "code",
   "execution_count": 1,
   "metadata": {},
   "outputs": [
    {
     "name": "stdout",
     "output_type": "stream",
     "text": [
      "None\n",
      "None\n",
      "None\n"
     ]
    }
   ],
   "source": [
    "class Solution:\n",
    "    def isValid(self, s):\n",
    "        # Fill this in.\n",
    "        pass\n",
    "\n",
    "# Test Program\n",
    "s = \"()(){(())\" \n",
    "# should return False\n",
    "print(Solution().isValid(s))\n",
    "\n",
    "s = \"\"\n",
    "# should return True\n",
    "print(Solution().isValid(s))\n",
    "\n",
    "s = \"([{}])()\"\n",
    "# should return True\n",
    "print(Solution().isValid(s))"
   ]
  },
  {
   "cell_type": "code",
   "execution_count": null,
   "metadata": {},
   "outputs": [],
   "source": []
  }
 ],
 "metadata": {
  "kernelspec": {
   "display_name": "Python 3",
   "language": "python",
   "name": "python3"
  },
  "language_info": {
   "codemirror_mode": {
    "name": "ipython",
    "version": 3
   },
   "file_extension": ".py",
   "mimetype": "text/x-python",
   "name": "python",
   "nbconvert_exporter": "python",
   "pygments_lexer": "ipython3",
   "version": "3.6.8"
  }
 },
 "nbformat": 4,
 "nbformat_minor": 2
}
