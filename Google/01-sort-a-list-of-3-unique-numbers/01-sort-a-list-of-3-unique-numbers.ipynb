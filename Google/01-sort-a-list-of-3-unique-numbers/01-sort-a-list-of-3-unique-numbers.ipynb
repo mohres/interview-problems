{
 "cells": [
  {
   "cell_type": "markdown",
   "metadata": {},
   "source": [
    "Given a list of numbers with only 3 unique numbers (1, 2, 3), sort the list in O(n) time.\n",
    "\n",
    "```\n",
    "Example 1:\n",
    "Input: [3, 3, 2, 1, 3, 2, 1]\n",
    "Output: [1, 1, 2, 2, 3, 3, 3]\n",
    "```\n",
    "\n",
    "Challenge: Try sorting the list using constant space."
   ]
  },
  {
   "cell_type": "markdown",
   "metadata": {},
   "source": [
    "### Solution Template"
   ]
  },
  {
   "cell_type": "code",
   "execution_count": null,
   "metadata": {},
   "outputs": [],
   "source": [
    "def sortNums(nums):\n",
    "  # Fill this in.\n",
    "\n",
    "print sortNums([3, 3, 2, 1, 3, 2, 1])\n",
    "# [1, 1, 2, 2, 3, 3, 3]"
   ]
  },
  {
   "cell_type": "code",
   "execution_count": null,
   "metadata": {},
   "outputs": [],
   "source": []
  }
 ],
 "metadata": {
  "kernelspec": {
   "display_name": "Python 3",
   "language": "python",
   "name": "python3"
  },
  "language_info": {
   "codemirror_mode": {
    "name": "ipython",
    "version": 3
   },
   "file_extension": ".py",
   "mimetype": "text/x-python",
   "name": "python",
   "nbconvert_exporter": "python",
   "pygments_lexer": "ipython3",
   "version": "3.6.8"
  }
 },
 "nbformat": 4,
 "nbformat_minor": 2
}
