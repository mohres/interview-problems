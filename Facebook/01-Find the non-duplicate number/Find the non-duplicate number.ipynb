{
 "cells": [
  {
   "cell_type": "markdown",
   "metadata": {},
   "source": [
    "Given a list of numbers, where every number shows up twice except for one number, find that one number.\n",
    "\n",
    "```\n",
    "Example:\n",
    "Input: [4, 3, 2, 4, 1, 3, 2]\n",
    "Output: 1\n",
    "```\n",
    "\n",
    "Here's the function signature:"
   ]
  },
  {
   "cell_type": "code",
   "execution_count": 1,
   "metadata": {},
   "outputs": [
    {
     "name": "stdout",
     "output_type": "stream",
     "text": [
      "None\n"
     ]
    }
   ],
   "source": [
    "def singleNumber(nums):\n",
    "    # Fill this in.\n",
    "    pass\n",
    "\n",
    "print(singleNumber([4, 3, 2, 4, 1, 3, 2]))\n",
    "# 1"
   ]
  },
  {
   "cell_type": "markdown",
   "metadata": {},
   "source": [
    "**Challenge:** Find a way to do this using O(1) memory."
   ]
  },
  {
   "cell_type": "code",
   "execution_count": null,
   "metadata": {},
   "outputs": [],
   "source": []
  }
 ],
 "metadata": {
  "kernelspec": {
   "display_name": "Python 3",
   "language": "python",
   "name": "python3"
  },
  "language_info": {
   "codemirror_mode": {
    "name": "ipython",
    "version": 3
   },
   "file_extension": ".py",
   "mimetype": "text/x-python",
   "name": "python",
   "nbconvert_exporter": "python",
   "pygments_lexer": "ipython3",
   "version": "3.6.8"
  }
 },
 "nbformat": 4,
 "nbformat_minor": 2
}
