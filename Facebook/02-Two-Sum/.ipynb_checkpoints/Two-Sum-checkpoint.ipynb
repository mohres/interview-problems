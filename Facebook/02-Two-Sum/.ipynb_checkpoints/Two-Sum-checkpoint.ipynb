{
 "cells": [
  {
   "cell_type": "markdown",
   "metadata": {},
   "source": [
    "You are given a list of numbers, and a target number k. Return whether or not there are two numbers in the list that add up to k.\n",
    "\n",
    "```\n",
    "Example:\n",
    "Given [4, 7, 1 , -3, 2] and k = 5,\n",
    "return true since 4 + 1 = 5.\n",
    "```"
   ]
  },
  {
   "cell_type": "code",
   "execution_count": null,
   "metadata": {},
   "outputs": [],
   "source": [
    "def two_sum(list, k):\n",
    "    # Fill this in.\n",
    "    pass\n",
    "\n",
    "print two_sum([4,7,1,-3,2], 5)\n",
    "# True"
   ]
  },
  {
   "cell_type": "markdown",
   "metadata": {},
   "source": [
    "Try to do it in a single pass of the list."
   ]
  }
 ],
 "metadata": {
  "kernelspec": {
   "display_name": "Python 3",
   "language": "python",
   "name": "python3"
  },
  "language_info": {
   "codemirror_mode": {
    "name": "ipython",
    "version": 3
   },
   "file_extension": ".py",
   "mimetype": "text/x-python",
   "name": "python",
   "nbconvert_exporter": "python",
   "pygments_lexer": "ipython3",
   "version": "3.6.8"
  }
 },
 "nbformat": 4,
 "nbformat_minor": 2
}
