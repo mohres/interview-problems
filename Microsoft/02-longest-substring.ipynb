{
 "cells": [
  {
   "cell_type": "markdown",
   "metadata": {},
   "source": [
    "Given a string, find the length of the longest substring without repeating characters.\n",
    "\n",
    "Can you find a solution in linear time?"
   ]
  },
  {
   "cell_type": "markdown",
   "metadata": {},
   "source": [
    "### Solution template"
   ]
  },
  {
   "cell_type": "code",
   "execution_count": 1,
   "metadata": {},
   "outputs": [
    {
     "name": "stdout",
     "output_type": "stream",
     "text": [
      "None\n"
     ]
    }
   ],
   "source": [
    "class Solution:\n",
    "    def lengthOfLongestSubstring(self, s):\n",
    "        # Fill this in.\n",
    "        pass\n",
    "\n",
    "print(Solution().lengthOfLongestSubstring('Microsoft'))\n",
    "# Micros"
   ]
  },
  {
   "cell_type": "markdown",
   "metadata": {},
   "source": [
    "### Method 1 (Linear Time)"
   ]
  },
  {
   "cell_type": "code",
   "execution_count": 1,
   "metadata": {},
   "outputs": [
    {
     "name": "stdout",
     "output_type": "stream",
     "text": [
      "Micros\n",
      "6\n"
     ]
    }
   ],
   "source": [
    "class Solution:\n",
    "  \n",
    "    def lengthOfLongestSubstring(self, s): \n",
    "        # Initialize the last index array as -1, -1 is used to store \n",
    "        # last index of every character \n",
    "        lastIndex = [-1] * 256 \n",
    "\n",
    "        n = len(s) \n",
    "        result = 0 \n",
    "        j = 0\n",
    "\n",
    "        for i in range(0, n): \n",
    "            # Find the last index of str[i] \n",
    "            # Update j (starting index of current window) \n",
    "            # as maximum of current value of i and last index plus 1 \n",
    "            j = max(j, lastIndex[ord(s[i])] + 1); \n",
    "            # Update result if we get a larger window \n",
    "            if result !=  max(result, i - j + 1):\n",
    "                start = j\n",
    "                end = i\n",
    "            result =  max(result, i - j + 1) \n",
    "            # Update last index of j. \n",
    "            lastIndex[ord(s[i])] = i; \n",
    "        print(s[start:end+1])\n",
    "        return result \n",
    "\n",
    "print(Solution().lengthOfLongestSubstring('Microsoft'))\n",
    "# Micros\n",
    "# 6"
   ]
  },
  {
   "cell_type": "markdown",
   "metadata": {},
   "source": [
    "### Method 2 (Works also on [Unicode](https://en.wikipedia.org/wiki/Unicode))"
   ]
  },
  {
   "cell_type": "code",
   "execution_count": 2,
   "metadata": {},
   "outputs": [
    {
     "name": "stdout",
     "output_type": "stream",
     "text": [
      "Micros\n"
     ]
    }
   ],
   "source": [
    "class Solution:\n",
    "    def lengthOfLongestSubstring(self, s):\n",
    "        # Fill this in.\n",
    "        sub_strings = []\n",
    "        temp_str = ''\n",
    "        i = 0\n",
    "        while i < len(s):\n",
    "            # if the element does not shown before \n",
    "            if s[i] not in temp_str:\n",
    "                temp_str = temp_str + s[i]\n",
    "                i += 1\n",
    "                continue\n",
    "            # to avoid neglecting characters between similar characters like 'pq' in 'opqo'\n",
    "            # get the last index of the repeated element\n",
    "            i = s[:i].rindex(s[i]) + 1\n",
    "            sub_strings.append(temp_str)\n",
    "            temp_str = s[i]\n",
    "            i += 1\n",
    "        sub_strings.append(temp_str)\n",
    "        longest_substring = sub_strings[0]\n",
    "        for i in sub_strings:\n",
    "            if len(i) > len(longest_substring):\n",
    "                longest_substring = i\n",
    "        return longest_substring\n",
    "\n",
    "print(Solution().lengthOfLongestSubstring('Microsoft'))\n",
    "# Micros"
   ]
  }
 ],
 "metadata": {
  "kernelspec": {
   "display_name": "Python 3",
   "language": "python",
   "name": "python3"
  },
  "language_info": {
   "codemirror_mode": {
    "name": "ipython",
    "version": 3
   },
   "file_extension": ".py",
   "mimetype": "text/x-python",
   "name": "python",
   "nbconvert_exporter": "python",
   "pygments_lexer": "ipython3",
   "version": "3.6.8"
  }
 },
 "nbformat": 4,
 "nbformat_minor": 2
}
