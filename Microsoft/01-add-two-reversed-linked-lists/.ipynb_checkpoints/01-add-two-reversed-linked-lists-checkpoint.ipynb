{
 "cells": [
  {
   "cell_type": "markdown",
   "metadata": {},
   "source": [
    "You are given two linked-lists representing two non-negative integers. The digits are stored in reverse order and each of their nodes contain a single digit. Add the two numbers and return it as a linked list.\n",
    "\n",
    "Example:\n",
    "\n",
    "\n",
    "```\n",
    "Input: (2 -> 4 -> 3) + (5 -> 6 -> 4)\n",
    "Output: 7 -> 0 -> 8\n",
    "Explanation: 342 + 465 = 807.\n",
    "```"
   ]
  },
  {
   "cell_type": "code",
   "execution_count": 2,
   "metadata": {},
   "outputs": [
    {
     "name": "stdout",
     "output_type": "stream",
     "text": [
      "708"
     ]
    }
   ],
   "source": [
    "class ListNode(object):\n",
    "    def __init__(self, x=None):\n",
    "        self.val = x\n",
    "        self.next = None\n",
    "    # push function inserts a new node at the beginning \n",
    "    def push(self, new_data): \n",
    "        new_node = ListNode(new_data) \n",
    "        if self.val is None: \n",
    "            self.val = new_node \n",
    "            return\n",
    "        \n",
    "        last = self.val \n",
    "        while (last.next): \n",
    "            last = last.next\n",
    "        last.next =  new_node\n",
    "        \n",
    "class Solution:\n",
    "        \n",
    "    def addTwoNumbers(self, l1, l2, c = 0):\n",
    "        # Fill this in.\n",
    "        llist = ListNode() \n",
    "        while l1:\n",
    "            sm = l1.val + l2.val\n",
    "            l1, l2 = l1.next, l2.next\n",
    "            a = sm % 10\n",
    "            llist.push(a + c)\n",
    "            c = int(sm / 10) % 10\n",
    "            # if the result length longer then l1 length \n",
    "            # e.g. (542 + 565 = 1107)\n",
    "            if(l1 is None and c!=0):\n",
    "                llist.push(c)\n",
    "        return llist.val\n",
    "\n",
    "l1 = ListNode(2)\n",
    "l1.next = ListNode(4)\n",
    "l1.next.next = ListNode(3)\n",
    "\n",
    "l2 = ListNode(5)\n",
    "l2.next = ListNode(6)\n",
    "l2.next.next = ListNode(4)\n",
    "\n",
    "result = Solution().addTwoNumbers(l1, l2)\n",
    "\n",
    "while result:\n",
    "    print(result.val, end=\"\") \n",
    "    result = result.next\n",
    "# 7 0 8"
   ]
  },
  {
   "cell_type": "markdown",
   "metadata": {},
   "source": [
    "By: [MohRes](https://github.com/mohre)"
   ]
  }
 ],
 "metadata": {
  "kernelspec": {
   "display_name": "Python 3",
   "language": "python",
   "name": "python3"
  },
  "language_info": {
   "codemirror_mode": {
    "name": "ipython",
    "version": 3
   },
   "file_extension": ".py",
   "mimetype": "text/x-python",
   "name": "python",
   "nbconvert_exporter": "python",
   "pygments_lexer": "ipython3",
   "version": "3.6.8"
  }
 },
 "nbformat": 4,
 "nbformat_minor": 2
}
