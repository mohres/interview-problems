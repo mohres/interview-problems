{
 "cells": [
  {
   "cell_type": "markdown",
   "metadata": {},
   "source": [
    "**Given a list of numbers, and a target number n, find all unique combinations of a, b, c, d, such that a + b + c + d = n.**\n",
    "\n",
    "Here's some examples and some starting code."
   ]
  },
  {
   "cell_type": "code",
   "execution_count": 1,
   "metadata": {},
   "outputs": [
    {
     "name": "stdout",
     "output_type": "stream",
     "text": [
      "None\n",
      "None\n",
      "None\n"
     ]
    }
   ],
   "source": [
    "def fourSum(nums, target):\n",
    "    pass\n",
    "    # Fill this in.\n",
    "\n",
    "print(fourSum([1, 1, -1, 0, -2, 1, -1], 0))\n",
    "# output [[-1, -1, 1, 1], [-2, 0, 1, 1]]\n",
    "\n",
    "print(fourSum([3, 0, 1, -5, 4, 0, -1], 1))\n",
    "# output [[-5, -1, 3, 4]]\n",
    "\n",
    "print(fourSum([0, 0, 0, 0, 0], 0))\n",
    "# output ([0, 0, 0, 0])"
   ]
  },
  {
   "cell_type": "code",
   "execution_count": null,
   "metadata": {},
   "outputs": [],
   "source": []
  }
 ],
 "metadata": {
  "kernelspec": {
   "display_name": "Python 3",
   "language": "python",
   "name": "python3"
  },
  "language_info": {
   "codemirror_mode": {
    "name": "ipython",
    "version": 3
   },
   "file_extension": ".py",
   "mimetype": "text/x-python",
   "name": "python",
   "nbconvert_exporter": "python",
   "pygments_lexer": "ipython3",
   "version": "3.6.12"
  }
 },
 "nbformat": 4,
 "nbformat_minor": 4
}
